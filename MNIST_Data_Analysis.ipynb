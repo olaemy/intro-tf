{
  "nbformat": 4,
  "nbformat_minor": 0,
  "metadata": {
    "kernelspec": {
      "display_name": "Python 3",
      "language": "python",
      "name": "python3"
    },
    "language_info": {
      "codemirror_mode": {
        "name": "ipython",
        "version": 3
      },
      "file_extension": ".py",
      "mimetype": "text/x-python",
      "name": "python",
      "nbconvert_exporter": "python",
      "pygments_lexer": "ipython3",
      "version": "3.7.1"
    },
    "colab": {
      "name": "MNIST Data Analysis.ipynb",
      "provenance": [],
      "include_colab_link": true
    }
  },
  "cells": [
    {
      "cell_type": "markdown",
      "metadata": {
        "id": "view-in-github",
        "colab_type": "text"
      },
      "source": [
        "<a href=\"https://colab.research.google.com/github/olaemy/intro-tf/blob/master/MNIST_Data_Analysis.ipynb\" target=\"_parent\"><img src=\"https://colab.research.google.com/assets/colab-badge.svg\" alt=\"Open In Colab\"/></a>"
      ]
    },
    {
      "cell_type": "code",
      "metadata": {
        "id": "UfpnCoeN-Wfi"
      },
      "source": [
        "import numpy as np\r\n",
        "import matplotlib\r\n",
        "import matplotlib.pyplot as plt"
      ],
      "execution_count": 1,
      "outputs": []
    },
    {
      "cell_type": "code",
      "metadata": {
        "id": "XR-5tKQT3Lbm"
      },
      "source": [
        "import warnings\n",
        "warnings.filterwarnings('ignore')\n",
        "import tensorflow as tf"
      ],
      "execution_count": 2,
      "outputs": []
    },
    {
      "cell_type": "code",
      "metadata": {
        "id": "V2LE3hgr3Lb6"
      },
      "source": [
        "num_classes = 10 #We are going to be classifying 10 digits\n",
        "img_rows, img_cols = 28, 28 #No of Pixels on height = 28 and width = 28 \n",
        "\n",
        "(x_train, y_train),(x_test, y_test) = tf.keras.datasets.mnist.load_data()\n",
        "# x_train, x_test = x_train / 255.0, x_test / 255.0"
      ],
      "execution_count": 3,
      "outputs": []
    },
    {
      "cell_type": "markdown",
      "metadata": {
        "id": "mguoAH8d3Lb9"
      },
      "source": [
        "We can check the number and size of the training/testing samples: "
      ]
    },
    {
      "cell_type": "code",
      "metadata": {
        "colab": {
          "base_uri": "https://localhost:8080/"
        },
        "id": "evwhZfOg3Lb-",
        "outputId": "e77c01b6-caf1-49ee-ecef-c330e197f723"
      },
      "source": [
        "x_train.shape"
      ],
      "execution_count": 4,
      "outputs": [
        {
          "output_type": "execute_result",
          "data": {
            "text/plain": [
              "(60000, 28, 28)"
            ]
          },
          "metadata": {
            "tags": []
          },
          "execution_count": 4
        }
      ]
    },
    {
      "cell_type": "code",
      "metadata": {
        "colab": {
          "base_uri": "https://localhost:8080/"
        },
        "id": "oR22bIGF3LcF",
        "outputId": "1f4ffc00-2eec-4791-a656-60235610d1aa"
      },
      "source": [
        "x_test.shape"
      ],
      "execution_count": 5,
      "outputs": [
        {
          "output_type": "execute_result",
          "data": {
            "text/plain": [
              "(10000, 28, 28)"
            ]
          },
          "metadata": {
            "tags": []
          },
          "execution_count": 5
        }
      ]
    },
    {
      "cell_type": "code",
      "metadata": {
        "colab": {
          "base_uri": "https://localhost:8080/"
        },
        "id": "7_AM8JQ-9y-y",
        "outputId": "9910d0ca-aa49-447f-d92b-dee391063f41"
      },
      "source": [
        "y_train.shape"
      ],
      "execution_count": 6,
      "outputs": [
        {
          "output_type": "execute_result",
          "data": {
            "text/plain": [
              "(60000,)"
            ]
          },
          "metadata": {
            "tags": []
          },
          "execution_count": 6
        }
      ]
    },
    {
      "cell_type": "markdown",
      "metadata": {
        "id": "LiYc3ef43LcG"
      },
      "source": [
        "i.e. we have 60,000 training samples and 10,000 testing one, with each sample an image of $28 \\times 28$ pixels."
      ]
    },
    {
      "cell_type": "code",
      "metadata": {
        "colab": {
          "base_uri": "https://localhost:8080/",
          "height": 247
        },
        "id": "OiAWcNs73LcH",
        "outputId": "86a70dd4-5224-4996-e14c-fc3e144df18a"
      },
      "source": [
        "img_idx = np.random.randint(0, x_test.shape[0])\n",
        "plt.imshow(x_test[img_idx], cmap=matplotlib.cm.binary)\n",
        "plt.axis(\"off\")\n",
        "plt.show()"
      ],
      "execution_count": 8,
      "outputs": [
        {
          "output_type": "display_data",
          "data": {
            "image/png": "[encoded data removed]",
            "text/plain": [
              "<Figure size 432x288 with 1 Axes>"
            ]
          },
          "metadata": {
            "tags": [],
            "needs_background": "light"
          }
        }
      ]
    },
    {
      "cell_type": "code",
      "metadata": {
        "colab": {
          "base_uri": "https://localhost:8080/"
        },
        "id": "956Q8err3LcI",
        "outputId": "25fab337-0490-426d-d2fe-cc9584025aa6"
      },
      "source": [
        "y_test[img_idx]"
      ],
      "execution_count": 9,
      "outputs": [
        {
          "output_type": "execute_result",
          "data": {
            "text/plain": [
              "1"
            ]
          },
          "metadata": {
            "tags": []
          },
          "execution_count": 9
        }
      ]
    },
    {
      "cell_type": "markdown",
      "metadata": {
        "id": "0ZiWTCJ63LcI"
      },
      "source": [
        "As we can see, our images match their ground-truth label, which is good news!"
      ]
    },
    {
      "cell_type": "markdown",
      "metadata": {
        "id": "GZbdvRjE3LcJ"
      },
      "source": [
        "However, as our Artifcial Neural Network only accepts column vectors, we need to _flatten_ the images into 1D vectors, i.e. vectors of shape `(1, 784)` (since $28 \\times 28 = 784$):"
      ]
    },
    {
      "cell_type": "markdown",
      "metadata": {
        "id": "-1akpDd-3LcJ"
      },
      "source": [
        "Also, let us have a look at our pixel values:"
      ]
    },
    {
      "cell_type": "code",
      "metadata": {
        "colab": {
          "base_uri": "https://localhost:8080/"
        },
        "id": "Tnf4beHg3LcK",
        "outputId": "d9b1b21a-c4ea-4f44-ceae-a0afffaedd2c"
      },
      "source": [
        "print(\"Pixel values between {} and {}\".format(x_train.min(), x_train.max()))"
      ],
      "execution_count": 10,
      "outputs": [
        {
          "output_type": "stream",
          "text": [
            "Pixel values between 0 and 255\n"
          ],
          "name": "stdout"
        }
      ]
    },
    {
      "cell_type": "markdown",
      "metadata": {
        "id": "nQIjeTos3LcK"
      },
      "source": [
        "Those are normal integer values for images with 8 bits per channel (`uint8`)... These values may be however too big for some of our operations. For instance, given a too big input value, our sigmoid may return `nan` (\"_not a number_\") because of the exponential function it uses, which may \"overflow\" with a large input value.\n",
        "\n",
        "It is thus customary to *normalize* the input data, i.e. to scale the values between 0 and 1 (or -1 and 1):"
      ]
    },
    {
      "cell_type": "code",
      "metadata": {
        "colab": {
          "base_uri": "https://localhost:8080/"
        },
        "id": "bzDqaqW53LcL",
        "outputId": "ce905365-8017-49b9-aebb-f4d7b3491ac4"
      },
      "source": [
        "x_train, x_test = x_train / 255., x_test / 255.\n",
        "print(\"Normalized pixel values between {} and {}\".format(x_train.min(), x_train.max()))"
      ],
      "execution_count": 7,
      "outputs": [
        {
          "output_type": "stream",
          "text": [
            "Normalized pixel values between 0.0 and 1.0\n"
          ],
          "name": "stdout"
        }
      ]
    },
    {
      "cell_type": "code",
      "metadata": {
        "id": "kNd9JnOX9y5w"
      },
      "source": [
        "from tensorflow.keras.models import Sequential\r\n",
        "from tensorflow.keras.layers import Dense, Dropout,Conv2D,MaxPooling2D,Flatten"
      ],
      "execution_count": 8,
      "outputs": []
    },
    {
      "cell_type": "code",
      "metadata": {
        "id": "JUrwpB5ozPAh"
      },
      "source": [
        "from tensorflow.keras.callbacks import EarlyStopping\r\n",
        "earlystopping = EarlyStopping(monitor='val_loss',mode='min', patience=15)"
      ],
      "execution_count": 9,
      "outputs": []
    },
    {
      "cell_type": "code",
      "metadata": {
        "colab": {
          "base_uri": "https://localhost:8080/"
        },
        "id": "dxPR2_Am4gxg",
        "outputId": "87774911-c07b-4608-d26c-3b242c348f0f"
      },
      "source": [
        "X_train = x_train.reshape(-1,28,28,1)\r\n",
        "X_train.shape"
      ],
      "execution_count": 11,
      "outputs": [
        {
          "output_type": "execute_result",
          "data": {
            "text/plain": [
              "(60000, 28, 28, 1)"
            ]
          },
          "metadata": {
            "tags": []
          },
          "execution_count": 11
        }
      ]
    },
    {
      "cell_type": "code",
      "metadata": {
        "colab": {
          "base_uri": "https://localhost:8080/"
        },
        "id": "9ZtJdPd74kBk",
        "outputId": "742e5632-2320-4233-85a6-8ce4b775f005"
      },
      "source": [
        "X_test = x_test.reshape(-1,28,28,1)\r\n",
        "X_test.shape"
      ],
      "execution_count": 12,
      "outputs": [
        {
          "output_type": "execute_result",
          "data": {
            "text/plain": [
              "(10000, 28, 28, 1)"
            ]
          },
          "metadata": {
            "tags": []
          },
          "execution_count": 12
        }
      ]
    },
    {
      "cell_type": "code",
      "metadata": {
        "id": "wYhDXI0Z3LcL"
      },
      "source": [
        "model = Sequential()\n",
        "\n",
        "model.add(Conv2D(30, (3,3), activation='relu', input_shape=(28, 28, 1)))\n",
        "model.add(MaxPooling2D())\n",
        "model.add(Flatten())\n",
        "model.add(Dense(128, activation='relu'))\n",
        "\n",
        "# Output\n",
        "model.add(Dense(10, activation='softmax'))\n",
        "\n",
        "\n",
        "# OR You can Decide to Use\n",
        "# model = tf.keras.Sequential([\n",
        "#     tf.keras.layers.Flatten(), #Convert Image(28,28) to input of size 28*28=784\n",
        "#     tf.keras.layers.Dense(128, activation='relu'),\n",
        "#     tf.keras.layers.Dense(10, activation='softmax')\n",
        "# ])"
      ],
      "execution_count": 15,
      "outputs": []
    },
    {
      "cell_type": "code",
      "metadata": {
        "id": "YB_hHu9D3LcM"
      },
      "source": [
        "model.compile(optimizer='adam',\n",
        "              loss='sparse_categorical_crossentropy',\n",
        "              metrics=['accuracy'])"
      ],
      "execution_count": 16,
      "outputs": []
    },
    {
      "cell_type": "code",
      "metadata": {
        "colab": {
          "base_uri": "https://localhost:8080/"
        },
        "id": "FHCe0sWw9O9w",
        "outputId": "11e4cbae-5aff-4cb8-c055-76e3009b39a2"
      },
      "source": [
        "model.fit(X_train, y_train, epochs=100, verbose=1, validation_data=(X_test, y_test),batch_size=32,callbacks=[earlystopping])"
      ],
      "execution_count": 17,
      "outputs": [
        {
          "output_type": "stream",
          "text": [
            "Epoch 1/100\n",
            "1875/1875 [==============================] - 30s 16ms/step - loss: 0.2877 - accuracy: 0.9162 - val_loss: 0.0601 - val_accuracy: 0.9804\n",
            "Epoch 2/100\n",
            "1875/1875 [==============================] - 30s 16ms/step - loss: 0.0541 - accuracy: 0.9831 - val_loss: 0.0565 - val_accuracy: 0.9821\n",
            "Epoch 3/100\n",
            "1875/1875 [==============================] - 30s 16ms/step - loss: 0.0342 - accuracy: 0.9900 - val_loss: 0.0430 - val_accuracy: 0.9856\n",
            "Epoch 4/100\n",
            "1875/1875 [==============================] - 30s 16ms/step - loss: 0.0229 - accuracy: 0.9928 - val_loss: 0.0443 - val_accuracy: 0.9863\n",
            "Epoch 5/100\n",
            "1875/1875 [==============================] - 29s 16ms/step - loss: 0.0169 - accuracy: 0.9950 - val_loss: 0.0440 - val_accuracy: 0.9864\n",
            "Epoch 6/100\n",
            "1875/1875 [==============================] - 30s 16ms/step - loss: 0.0098 - accuracy: 0.9973 - val_loss: 0.0417 - val_accuracy: 0.9870\n",
            "Epoch 7/100\n",
            "1875/1875 [==============================] - 30s 16ms/step - loss: 0.0080 - accuracy: 0.9977 - val_loss: 0.0544 - val_accuracy: 0.9850\n",
            "Epoch 8/100\n",
            "1875/1875 [==============================] - 30s 16ms/step - loss: 0.0072 - accuracy: 0.9979 - val_loss: 0.0535 - val_accuracy: 0.9867\n",
            "Epoch 9/100\n",
            "1875/1875 [==============================] - 30s 16ms/step - loss: 0.0052 - accuracy: 0.9982 - val_loss: 0.0430 - val_accuracy: 0.9881\n",
            "Epoch 10/100\n",
            "1875/1875 [==============================] - 29s 16ms/step - loss: 0.0049 - accuracy: 0.9986 - val_loss: 0.0554 - val_accuracy: 0.9865\n",
            "Epoch 11/100\n",
            "1875/1875 [==============================] - 29s 16ms/step - loss: 0.0050 - accuracy: 0.9982 - val_loss: 0.0582 - val_accuracy: 0.9863\n",
            "Epoch 12/100\n",
            "1875/1875 [==============================] - 30s 16ms/step - loss: 0.0026 - accuracy: 0.9991 - val_loss: 0.0550 - val_accuracy: 0.9881\n",
            "Epoch 13/100\n",
            "1875/1875 [==============================] - 30s 16ms/step - loss: 0.0027 - accuracy: 0.9991 - val_loss: 0.0489 - val_accuracy: 0.9893\n",
            "Epoch 14/100\n",
            "1875/1875 [==============================] - 30s 16ms/step - loss: 0.0015 - accuracy: 0.9996 - val_loss: 0.0690 - val_accuracy: 0.9868\n",
            "Epoch 15/100\n",
            "1875/1875 [==============================] - 30s 16ms/step - loss: 0.0030 - accuracy: 0.9990 - val_loss: 0.0645 - val_accuracy: 0.9861\n",
            "Epoch 16/100\n",
            "1875/1875 [==============================] - 30s 16ms/step - loss: 0.0027 - accuracy: 0.9992 - val_loss: 0.0659 - val_accuracy: 0.9867\n",
            "Epoch 17/100\n",
            "1875/1875 [==============================] - 29s 16ms/step - loss: 0.0020 - accuracy: 0.9993 - val_loss: 0.0598 - val_accuracy: 0.9860\n",
            "Epoch 18/100\n",
            "1875/1875 [==============================] - 30s 16ms/step - loss: 0.0017 - accuracy: 0.9995 - val_loss: 0.0633 - val_accuracy: 0.9876\n",
            "Epoch 19/100\n",
            "1875/1875 [==============================] - 30s 16ms/step - loss: 0.0029 - accuracy: 0.9992 - val_loss: 0.0633 - val_accuracy: 0.9881\n",
            "Epoch 20/100\n",
            "1875/1875 [==============================] - 30s 16ms/step - loss: 0.0017 - accuracy: 0.9995 - val_loss: 0.0645 - val_accuracy: 0.9880\n",
            "Epoch 21/100\n",
            "1875/1875 [==============================] - 30s 16ms/step - loss: 0.0016 - accuracy: 0.9996 - val_loss: 0.0707 - val_accuracy: 0.9867\n"
          ],
          "name": "stdout"
        },
        {
          "output_type": "execute_result",
          "data": {
            "text/plain": [
              "<tensorflow.python.keras.callbacks.History at 0x7fdbfc682860>"
            ]
          },
          "metadata": {
            "tags": []
          },
          "execution_count": 17
        }
      ]
    },
    {
      "cell_type": "code",
      "metadata": {
        "colab": {
          "base_uri": "https://localhost:8080/"
        },
        "id": "PybWt2QaMUDQ",
        "outputId": "3dd1b824-0a1f-496f-b819-0943a1228fee"
      },
      "source": [
        "model.summary()"
      ],
      "execution_count": 18,
      "outputs": [
        {
          "output_type": "stream",
          "text": [
            "Model: \"sequential_1\"\n",
            "_________________________________________________________________\n",
            "Layer (type)                 Output Shape              Param #   \n",
            "=================================================================\n",
            "conv2d_1 (Conv2D)            (None, 26, 26, 30)        300       \n",
            "_________________________________________________________________\n",
            "max_pooling2d_1 (MaxPooling2 (None, 13, 13, 30)        0         \n",
            "_________________________________________________________________\n",
            "flatten_1 (Flatten)          (None, 5070)              0         \n",
            "_________________________________________________________________\n",
            "dense_2 (Dense)              (None, 128)               649088    \n",
            "_________________________________________________________________\n",
            "dense_3 (Dense)              (None, 10)                1290      \n",
            "=================================================================\n",
            "Total params: 650,678\n",
            "Trainable params: 650,678\n",
            "Non-trainable params: 0\n",
            "_________________________________________________________________\n"
          ],
          "name": "stdout"
        }
      ]
    },
    {
      "cell_type": "code",
      "metadata": {
        "id": "2MHidu0GDICX"
      },
      "source": [
        "from tensorflow.keras.models import load_model\r\n",
        "model.save('my_model_cnn.h5')"
      ],
      "execution_count": 20,
      "outputs": []
    },
    {
      "cell_type": "code",
      "metadata": {
        "colab": {
          "base_uri": "https://localhost:8080/",
          "height": 197
        },
        "id": "r71mLWBG_XWM",
        "outputId": "7a4bdf42-4092-499f-eff7-7d443541d311"
      },
      "source": [
        "import pandas as pd\r\n",
        "losses = pd.DataFrame(model.history.history)\r\n",
        "losses.head()"
      ],
      "execution_count": 19,
      "outputs": [
        {
          "output_type": "execute_result",
          "data": {
            "text/html": [
              "<div>\n",
              "<style scoped>\n",
              "    .dataframe tbody tr th:only-of-type {\n",
              "        vertical-align: middle;\n",
              "    }\n",
              "\n",
              "    .dataframe tbody tr th {\n",
              "        vertical-align: top;\n",
              "    }\n",
              "\n",
              "    .dataframe thead th {\n",
              "        text-align: right;\n",
              "    }\n",
              "</style>\n",
              "<table border=\"1\" class=\"dataframe\">\n",
              "  <thead>\n",
              "    <tr style=\"text-align: right;\">\n",
              "      <th></th>\n",
              "      <th>loss</th>\n",
              "      <th>accuracy</th>\n",
              "      <th>val_loss</th>\n",
              "      <th>val_accuracy</th>\n",
              "    </tr>\n",
              "  </thead>\n",
              "  <tbody>\n",
              "    <tr>\n",
              "      <th>0</th>\n",
              "      <td>0.150379</td>\n",
              "      <td>0.955867</td>\n",
              "      <td>0.060069</td>\n",
              "      <td>0.9804</td>\n",
              "    </tr>\n",
              "    <tr>\n",
              "      <th>1</th>\n",
              "      <td>0.054430</td>\n",
              "      <td>0.983033</td>\n",
              "      <td>0.056512</td>\n",
              "      <td>0.9821</td>\n",
              "    </tr>\n",
              "    <tr>\n",
              "      <th>2</th>\n",
              "      <td>0.035184</td>\n",
              "      <td>0.989550</td>\n",
              "      <td>0.042993</td>\n",
              "      <td>0.9856</td>\n",
              "    </tr>\n",
              "    <tr>\n",
              "      <th>3</th>\n",
              "      <td>0.024466</td>\n",
              "      <td>0.992133</td>\n",
              "      <td>0.044333</td>\n",
              "      <td>0.9863</td>\n",
              "    </tr>\n",
              "    <tr>\n",
              "      <th>4</th>\n",
              "      <td>0.017381</td>\n",
              "      <td>0.994450</td>\n",
              "      <td>0.043957</td>\n",
              "      <td>0.9864</td>\n",
              "    </tr>\n",
              "  </tbody>\n",
              "</table>\n",
              "</div>"
            ],
            "text/plain": [
              "       loss  accuracy  val_loss  val_accuracy\n",
              "0  0.150379  0.955867  0.060069        0.9804\n",
              "1  0.054430  0.983033  0.056512        0.9821\n",
              "2  0.035184  0.989550  0.042993        0.9856\n",
              "3  0.024466  0.992133  0.044333        0.9863\n",
              "4  0.017381  0.994450  0.043957        0.9864"
            ]
          },
          "metadata": {
            "tags": []
          },
          "execution_count": 19
        }
      ]
    },
    {
      "cell_type": "code",
      "metadata": {
        "colab": {
          "base_uri": "https://localhost:8080/",
          "height": 281
        },
        "id": "N2OUQmI4DDTM",
        "outputId": "f7bd9fdc-37eb-4671-d55e-18df1fa59a0e"
      },
      "source": [
        "losses.plot()\r\n",
        "plt.title(\"Training Loss per Epoch\");"
      ],
      "execution_count": 21,
      "outputs": [
        {
          "output_type": "display_data",
          "data": {
            "image/png": "[encoded data removed]",
            "text/plain": [
              "<Figure size 432x288 with 1 Axes>"
            ]
          },
          "metadata": {
            "tags": [],
            "needs_background": "light"
          }
        }
      ]
    },
    {
      "cell_type": "code",
      "metadata": {
        "id": "JQgpwRzpDDPt"
      },
      "source": [
        ""
      ],
      "execution_count": null,
      "outputs": []
    },
    {
      "cell_type": "code",
      "metadata": {
        "id": "RENYCsfoDDEw"
      },
      "source": [
        ""
      ],
      "execution_count": null,
      "outputs": []
    },
    {
      "cell_type": "code",
      "metadata": {
        "id": "EA5_ildIDC-p"
      },
      "source": [
        ""
      ],
      "execution_count": null,
      "outputs": []
    },
    {
      "cell_type": "code",
      "metadata": {
        "id": "lgc7wQbDDC1J"
      },
      "source": [
        ""
      ],
      "execution_count": null,
      "outputs": []
    },
    {
      "cell_type": "code",
      "metadata": {
        "id": "m3X9nC-O_XTE"
      },
      "source": [
        "from tensorflow.keras.models import load_model\r\n",
        "model.save('my_model.h5')"
      ],
      "execution_count": null,
      "outputs": []
    },
    {
      "cell_type": "code",
      "metadata": {
        "id": "qEJ7wn1l_XOs"
      },
      "source": [
        "# later_model = load_model('my_model.h5')\r\n",
        "# later_model.predict(new_gem)"
      ],
      "execution_count": null,
      "outputs": []
    },
    {
      "cell_type": "code",
      "metadata": {
        "id": "onU4S8SZ_XKx"
      },
      "source": [
        ""
      ],
      "execution_count": null,
      "outputs": []
    },
    {
      "cell_type": "code",
      "metadata": {
        "id": "WMDyPfXi_XCz"
      },
      "source": [
        ""
      ],
      "execution_count": null,
      "outputs": []
    },
    {
      "cell_type": "code",
      "metadata": {
        "id": "Cn_qSBwZ_W_o"
      },
      "source": [
        ""
      ],
      "execution_count": null,
      "outputs": []
    },
    {
      "cell_type": "code",
      "metadata": {
        "id": "rw3LYwzH_W5x"
      },
      "source": [
        ""
      ],
      "execution_count": null,
      "outputs": []
    },
    {
      "cell_type": "code",
      "metadata": {
        "id": "PQwMi42d_WvL"
      },
      "source": [
        ""
      ],
      "execution_count": null,
      "outputs": []
    },
    {
      "cell_type": "code",
      "metadata": {
        "id": "HerygJez_Wm0"
      },
      "source": [
        ""
      ],
      "execution_count": null,
      "outputs": []
    },
    {
      "cell_type": "code",
      "metadata": {
        "id": "bmCMp8JE_WjA"
      },
      "source": [
        ""
      ],
      "execution_count": null,
      "outputs": []
    },
    {
      "cell_type": "code",
      "metadata": {
        "id": "PqQtaJ-z_WZj"
      },
      "source": [
        ""
      ],
      "execution_count": null,
      "outputs": []
    },
    {
      "cell_type": "markdown",
      "metadata": {
        "id": "Cq1ypz-13LcM"
      },
      "source": [
        "over **90%** of accuracy! This is much better. Congratulations, we implemented and trained our first neural network classifier!"
      ]
    },
    {
      "cell_type": "markdown",
      "metadata": {
        "id": "YVIs-7Z13LcN"
      },
      "source": [
        "<p>Can You Beat The Score(^-^)?</p>\n",
        "<p>Play Around the parameters</p>\n",
        "<p>Brush up on Week2 Materials including loss,optimizers,backpropagation etc</p>"
      ]
    },
    {
      "cell_type": "code",
      "metadata": {
        "id": "52Ef7_Qf3LcN"
      },
      "source": [
        ""
      ],
      "execution_count": null,
      "outputs": []
    }
  ]
}